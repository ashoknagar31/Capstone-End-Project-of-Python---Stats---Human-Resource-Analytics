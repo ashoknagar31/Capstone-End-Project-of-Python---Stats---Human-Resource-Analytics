{
 "cells": [
  {
   "cell_type": "code",
   "execution_count": 1,
   "id": "a7767eb0",
   "metadata": {},
   "outputs": [
    {
     "name": "stdout",
     "output_type": "stream",
     "text": [
      "First few rows of the DataFrame:\n"
     ]
    },
    {
     "data": {
      "text/html": [
       "<div>\n",
       "<style scoped>\n",
       "    .dataframe tbody tr th:only-of-type {\n",
       "        vertical-align: middle;\n",
       "    }\n",
       "\n",
       "    .dataframe tbody tr th {\n",
       "        vertical-align: top;\n",
       "    }\n",
       "\n",
       "    .dataframe thead th {\n",
       "        text-align: right;\n",
       "    }\n",
       "</style>\n",
       "<table border=\"1\" class=\"dataframe\">\n",
       "  <thead>\n",
       "    <tr style=\"text-align: right;\">\n",
       "      <th></th>\n",
       "      <th>EmployeeId</th>\n",
       "      <th>Hrs</th>\n",
       "      <th>Rating</th>\n",
       "      <th>EmployeeSatisfaction</th>\n",
       "    </tr>\n",
       "  </thead>\n",
       "  <tbody>\n",
       "    <tr>\n",
       "      <th>0</th>\n",
       "      <td>E01</td>\n",
       "      <td>12.118051</td>\n",
       "      <td>Excellent</td>\n",
       "      <td>6</td>\n",
       "    </tr>\n",
       "    <tr>\n",
       "      <th>1</th>\n",
       "      <td>E02</td>\n",
       "      <td>13.298281</td>\n",
       "      <td>Excellent</td>\n",
       "      <td>8</td>\n",
       "    </tr>\n",
       "    <tr>\n",
       "      <th>2</th>\n",
       "      <td>E03</td>\n",
       "      <td>13.276334</td>\n",
       "      <td>Excellent</td>\n",
       "      <td>7</td>\n",
       "    </tr>\n",
       "    <tr>\n",
       "      <th>3</th>\n",
       "      <td>E04</td>\n",
       "      <td>10.798173</td>\n",
       "      <td>Excellent</td>\n",
       "      <td>9</td>\n",
       "    </tr>\n",
       "    <tr>\n",
       "      <th>4</th>\n",
       "      <td>E05</td>\n",
       "      <td>11.579172</td>\n",
       "      <td>Excellent</td>\n",
       "      <td>8</td>\n",
       "    </tr>\n",
       "    <tr>\n",
       "      <th>5</th>\n",
       "      <td>E06</td>\n",
       "      <td>13.835646</td>\n",
       "      <td>Outstanding</td>\n",
       "      <td>7</td>\n",
       "    </tr>\n",
       "    <tr>\n",
       "      <th>6</th>\n",
       "      <td>E07</td>\n",
       "      <td>13.673691</td>\n",
       "      <td>Outstanding</td>\n",
       "      <td>7</td>\n",
       "    </tr>\n",
       "    <tr>\n",
       "      <th>7</th>\n",
       "      <td>E08</td>\n",
       "      <td>8.031467</td>\n",
       "      <td>Unsatisfactory</td>\n",
       "      <td>6</td>\n",
       "    </tr>\n",
       "    <tr>\n",
       "      <th>8</th>\n",
       "      <td>E09</td>\n",
       "      <td>9.304839</td>\n",
       "      <td>Excellent</td>\n",
       "      <td>7</td>\n",
       "    </tr>\n",
       "    <tr>\n",
       "      <th>9</th>\n",
       "      <td>E10</td>\n",
       "      <td>13.429567</td>\n",
       "      <td>Excellent</td>\n",
       "      <td>6</td>\n",
       "    </tr>\n",
       "  </tbody>\n",
       "</table>\n",
       "</div>"
      ],
      "text/plain": [
       "  EmployeeId        Hrs          Rating  EmployeeSatisfaction\n",
       "0        E01  12.118051       Excellent                     6\n",
       "1        E02  13.298281       Excellent                     8\n",
       "2        E03  13.276334       Excellent                     7\n",
       "3        E04  10.798173       Excellent                     9\n",
       "4        E05  11.579172       Excellent                     8\n",
       "5        E06  13.835646     Outstanding                     7\n",
       "6        E07  13.673691     Outstanding                     7\n",
       "7        E08   8.031467  Unsatisfactory                     6\n",
       "8        E09   9.304839       Excellent                     7\n",
       "9        E10  13.429567       Excellent                     6"
      ]
     },
     "execution_count": 1,
     "metadata": {},
     "output_type": "execute_result"
    }
   ],
   "source": [
    "import pandas as pd\n",
    "import numpy as np\n",
    "import matplotlib.pyplot as plt\n",
    "import seaborn as sns\n",
    "import warnings\n",
    "warnings.filterwarnings('ignore')\n",
    "hr_data = pd.read_csv(r'C:\\Users\\ASHOK\\Downloads\\HR Data.csv')\n",
    "print(\"First few rows of the DataFrame:\")\n",
    "hr_data.head(10)"
   ]
  },
  {
   "cell_type": "code",
   "execution_count": 2,
   "id": "ba3a9671",
   "metadata": {},
   "outputs": [
    {
     "name": "stdout",
     "output_type": "stream",
     "text": [
      "There are 500 observations.\n"
     ]
    }
   ],
   "source": [
    "# How many observations are there in the dataset?\n",
    "num_observations = hr_data.shape[0]\n",
    "print(f'There are {num_observations} observations.')"
   ]
  },
  {
   "cell_type": "code",
   "execution_count": 3,
   "id": "19c7fef3",
   "metadata": {},
   "outputs": [
    {
     "name": "stdout",
     "output_type": "stream",
     "text": [
      "Missing values count in each column:\n",
      "EmployeeId              0\n",
      "Hrs                     8\n",
      "Rating                  0\n",
      "EmployeeSatisfaction    0\n",
      "dtype: int64\n",
      "\n",
      "Missing values percentage in each column with:\n",
      "EmployeeId              0.0\n",
      "Hrs                     1.6\n",
      "Rating                  0.0\n",
      "EmployeeSatisfaction    0.0\n",
      "dtype: float64\n"
     ]
    }
   ],
   "source": [
    "# How many variables have missing values?\n",
    "# How many missing values are present within the Hrs variable?\n",
    "print(\"Missing values count in each column:\")\n",
    "print(hr_data.isnull().sum())\n",
    "print()\n",
    "print('Missing values percentage in each column with:')\n",
    "print(hr_data.isnull().sum() *100/hr_data.shape[0])"
   ]
  },
  {
   "cell_type": "code",
   "execution_count": 4,
   "id": "d769d152",
   "metadata": {},
   "outputs": [
    {
     "name": "stdout",
     "output_type": "stream",
     "text": [
      "The average value for the Hrs variable is: 11.31\n"
     ]
    }
   ],
   "source": [
    "# What is the average value for the Hrs variable? Round it off to 2 decimal places.\n",
    "average_Hrs = hr_data['Hrs'].mean()\n",
    "print('The average value for the Hrs variable is:',round(average_Hrs, 2))"
   ]
  },
  {
   "cell_type": "code",
   "execution_count": 5,
   "id": "b7dd1671",
   "metadata": {},
   "outputs": [
    {
     "name": "stdout",
     "output_type": "stream",
     "text": [
      "The cardinality of the Rating variable in the dataset is: 6\n"
     ]
    }
   ],
   "source": [
    "# What is the cardinality of the Rating variable in the dataset?\n",
    "cardinality = hr_data['Rating'].nunique()\n",
    "print('The cardinality of the Rating variable in the dataset is:',cardinality)"
   ]
  },
  {
   "cell_type": "markdown",
   "id": "bb02982a",
   "metadata": {},
   "source": [
    "# Data Cleaning:"
   ]
  },
  {
   "cell_type": "code",
   "execution_count": 6,
   "id": "b504b72f",
   "metadata": {},
   "outputs": [
    {
     "name": "stdout",
     "output_type": "stream",
     "text": [
      "Cardinality after standardise: ['Excellent' 'Outstanding' 'Unsatisfactory' 'Satisfactory']\n"
     ]
    }
   ],
   "source": [
    "# Standardise the Rating column: Make the column consistent so that it has cardinality of 4.\n",
    "# [Hint: Use Unsatisfactory in place of Un satisfactory and Satisfactory in place of satisfactory]\n",
    "hr_data['Rating'] = hr_data['Rating'].replace({'Un satisfactory' : 'Unsatisfactory', 'satisfactory' : 'Satisfactory'})\n",
    "cardinality_after = hr_data['Rating'].unique()\n",
    "print('Cardinality after standardise:',cardinality_after)"
   ]
  },
  {
   "cell_type": "code",
   "execution_count": 7,
   "id": "9b5cdd45",
   "metadata": {},
   "outputs": [
    {
     "name": "stdout",
     "output_type": "stream",
     "text": [
      "EmployeeId              0\n",
      "Hrs                     0\n",
      "Rating                  0\n",
      "EmployeeSatisfaction    0\n",
      "dtype: int64\n"
     ]
    }
   ],
   "source": [
    "# Remove any empty or incomplete rows: Check if there are any rows with missing data. Substitute these values with the mean of numerical or mode for non-numerical data.\n",
    "# [Challenge yourself: Try to fill mean/mode value corresponding to individual individual ratings]\n",
    "hr_data['Hrs'].fillna(hr_data['Hrs'].mean(), inplace=True)\n",
    "print(hr_data.isnull().sum())"
   ]
  },
  {
   "cell_type": "code",
   "execution_count": 8,
   "id": "4250cca4",
   "metadata": {},
   "outputs": [
    {
     "name": "stdout",
     "output_type": "stream",
     "text": [
      "Mode of the employee performance in the rating column is: Excellent\n"
     ]
    }
   ],
   "source": [
    "# Calculate the mode of the employee performance in the rating column. Choose the correct option.\n",
    "mode_availability = hr_data['Rating'].mode()[0]\n",
    "print('Mode of the employee performance in the rating column is:',mode_availability)"
   ]
  },
  {
   "cell_type": "code",
   "execution_count": 9,
   "id": "6e490042",
   "metadata": {},
   "outputs": [
    {
     "name": "stdout",
     "output_type": "stream",
     "text": [
      "Range of hours the employee is working for in case of unsatisfactory rating: Min 0.091720323, Max 8.489765491\n"
     ]
    }
   ],
   "source": [
    "# Calculate the range of hours the employee is working for in case of unsatisfactory rating.\n",
    "unsatisfactory_data = hr_data[hr_data['Rating'] == 'Unsatisfactory']\n",
    "unsatisfactory_min = unsatisfactory_data['Hrs'].min()\n",
    "unsatisfactory_max = unsatisfactory_data['Hrs'].max()\n",
    "print(f'Range of hours the employee is working for in case of unsatisfactory rating: Min {unsatisfactory_min}, Max {unsatisfactory_max}')"
   ]
  },
  {
   "cell_type": "markdown",
   "id": "6bd5b1be",
   "metadata": {},
   "source": [
    "Purpose: What do we achieve by calculating these stats?\n",
    "\n",
    "These stats help us in understanding the different rating factors closely. We are able to understand that satisfactory and unsatisfactory performances have quite a say in their ratings. Lower ratings are given to employees who are working for lesser hours."
   ]
  },
  {
   "cell_type": "code",
   "execution_count": 10,
   "id": "4e173c37",
   "metadata": {},
   "outputs": [
    {
     "data": {
      "image/png": "[encoded data removed]",
      "text/plain": [
       "<Figure size 1200x500 with 2 Axes>"
      ]
     },
     "metadata": {},
     "output_type": "display_data"
    }
   ],
   "source": [
    "# Check out the distribution of the Hrs variable using histogram and boxplot. Where do we have the outliers?\n",
    "fig, axes = plt.subplots(1, 2, figsize=(12, 5))\n",
    "sns.histplot(hr_data['Hrs'], bins=50, kde=True, stat='density', ax=axes[0])\n",
    "axes[0].set_xlabel(\"Hrs\")\n",
    "axes[0].set_ylabel(\"Density\")\n",
    "axes[0].set_title(\"Histogram\")\n",
    "sns.boxplot(x = hr_data['Hrs'], data = hr_data, ax=axes[1]).set(title = 'Boxplot')\n",
    "plt.tight_layout()\n",
    "plt.show()"
   ]
  },
  {
   "cell_type": "markdown",
   "id": "90c6002f",
   "metadata": {},
   "source": [
    "Purpose: What do we achieve by analysing these distribution charts? If you closely take a look in these distribution charts, you can clearly see that the majority of the Hours are centred around 8 to 14 which clearly indicates the outliers towards the higher and lower side..\n",
    "\n",
    "A histogram will give you a peek into how your distribution looks like. You can define the number of peaks which means it can be a unimodal, bimodal or multimodal distribution depending on the peaks involved.\n",
    "\n",
    "A box plot on the other hand helps you understand min, max and interquartile range where most of the data is centred around.\n",
    "\n",
    "With these 2 charts, you can easily understand the extremes involved in the data. Do understand that extremes/outliers require some thoughtful investigation before we actually take the decision of removing/retaining them."
   ]
  },
  {
   "cell_type": "code",
   "execution_count": 11,
   "id": "7dca95a9",
   "metadata": {},
   "outputs": [
    {
     "data": {
      "image/png": "[encoded data removed]",
      "text/plain": [
       "<Figure size 600x400 with 1 Axes>"
      ]
     },
     "metadata": {},
     "output_type": "display_data"
    }
   ],
   "source": [
    "# Choose the correct frequency plot for Rating.\n",
    "'Excellent' 'Outstanding' 'Unsatisfactory' 'Satisfactory'\n",
    "rating_colors = {'Excellent': 'steelblue', 'Outstanding': 'orange', 'Unsatisfactory': 'green', 'Satisfactory': 'red'}\n",
    "plt.figure(figsize = (6,4))\n",
    "sns.countplot(data = hr_data, x = 'Rating', palette = rating_colors)\n",
    "plt.xlabel(\"Rating\")\n",
    "plt.ylabel(\"Count\")\n",
    "plt.tight_layout()\n",
    "plt.show()"
   ]
  },
  {
   "cell_type": "markdown",
   "id": "60c90c92",
   "metadata": {},
   "source": [
    "Purpose: We can clearly see that the highest frequency is for Excellent rating followed by outstanding and unsatisfactory. Also, we can see that the majority of employees are giving 6 or 7 satisfaction scores which means that the majority of employees aren’t that happy due to lower work life balance. Therefore, our major focus should be towards increasing the work life balance of the employees rather than rewarding the higher number of work hours from the employees.\n",
    "\n",
    "Challenge Yourself! Try to calculate the average number of hours an employee is dedicating with respect to their satisfaction score and see if you can confirm the work life balance theory by this analysis.\n",
    "\n",
    "This is what we call Univariate and biVariate Analysis which is a part of EDA.\n",
    "\n",
    "Kudos for your bravery! One of the very important traits of the data scientist is the ability to find information autonomously. In this course we’ll try to focus on the most fundamental and essential formulas and tools - however, in your real work you will do this several times in a day. So one of our goals is to develop self-learning skills that will be super useful both in your studies and in your work life."
   ]
  },
  {
   "cell_type": "code",
   "execution_count": 12,
   "id": "7ab1668e",
   "metadata": {},
   "outputs": [
    {
     "name": "stdout",
     "output_type": "stream",
     "text": [
      "\n",
      "Frequencies for Employee Satisfaction Score is:\n",
      "   EmployeeSatisfaction  Total Count\n",
      "0                     6          142\n",
      "1                     7          161\n",
      "2                     8          132\n",
      "3                     9           65\n"
     ]
    }
   ],
   "source": [
    "# Choose the correct frequencies for Employee Satisfaction Score.\n",
    "count_of_EmployeeSatisfaction = hr_data.groupby('EmployeeSatisfaction')['EmployeeSatisfaction'].count()\n",
    "total_count = pd.DataFrame({'EmployeeSatisfaction': count_of_EmployeeSatisfaction.index, 'Total Count' : count_of_EmployeeSatisfaction.values})\n",
    "print('\\nFrequencies for Employee Satisfaction Score is:')\n",
    "print(total_count)"
   ]
  },
  {
   "cell_type": "code",
   "execution_count": 13,
   "id": "fe08fe04",
   "metadata": {},
   "outputs": [
    {
     "name": "stdout",
     "output_type": "stream",
     "text": [
      "The highest number of average working hours is:\n",
      "Outstanding - 13.739969521914894\n"
     ]
    }
   ],
   "source": [
    "# Which rating has the highest number of average working hours?\n",
    "avg_of_hours = hr_data.groupby('Rating')['Hrs'].mean()\n",
    "highest_avg_rating = avg_of_hours.idxmax()\n",
    "highest_rating = avg_of_hours.max()\n",
    "print('The highest number of average working hours is:')\n",
    "print(highest_avg_rating,'-', highest_rating)"
   ]
  },
  {
   "cell_type": "code",
   "execution_count": 14,
   "id": "6983353f",
   "metadata": {},
   "outputs": [
    {
     "name": "stdout",
     "output_type": "stream",
     "text": [
      "Upper cutoff (excluding outliers): 16.89\n",
      "Lower cutoff (excluding outliers): 5.48\n"
     ]
    }
   ],
   "source": [
    "# Identify the correct upper and lower cut off within Hrs using IQR rule to exclude the outliers. Round off to 2 decimal places.\n",
    "Q1 = hr_data['Hrs'].quantile(0.25) # Calculate the first quartile (Q1)\n",
    "\n",
    "Q3 = hr_data['Hrs'].quantile(0.75) # Calculate the third quartile (Q3)\n",
    "\n",
    "IQR = Q3 - Q1 # Calculate the Interquartile Range (IQR)\n",
    "\n",
    "upper_cutoff = Q3 + 1.5 * IQR # Calculate the upper cutoff\n",
    "\n",
    "lower_cutoff = Q1 - 1.5 * IQR # Calculate the lower cutoff\n",
    "\n",
    "print(\"Upper cutoff (excluding outliers):\", round(upper_cutoff, 2))\n",
    "print(\"Lower cutoff (excluding outliers):\", round(lower_cutoff, 2))"
   ]
  },
  {
   "cell_type": "code",
   "execution_count": 15,
   "id": "38dc7111",
   "metadata": {},
   "outputs": [
    {
     "name": "stdout",
     "output_type": "stream",
     "text": [
      "Mean value for Hrs variable after excluding outliers: 11.13\n"
     ]
    }
   ],
   "source": [
    "# After treatment with the outliers, what’s the mean value for Hrs variable?\n",
    "data_no_outliers = hr_data[(hr_data['Hrs'] >= lower_cutoff) & (hr_data['Hrs'] <= upper_cutoff)]\n",
    "\n",
    "mean_hrs_no_outliers = data_no_outliers['Hrs'].mean() # Calculate the mean value for the Hrs variable after excluding outliers\n",
    "\n",
    "print(\"Mean value for Hrs variable after excluding outliers:\", round(mean_hrs_no_outliers, 2))"
   ]
  },
  {
   "cell_type": "code",
   "execution_count": 16,
   "id": "9d8e703a",
   "metadata": {},
   "outputs": [
    {
     "name": "stdout",
     "output_type": "stream",
     "text": [
      "Ratings that aren't witnessing changes with respect to the Hrs variable after outlier treatment: ['Outstanding', 'Satisfactory']\n"
     ]
    }
   ],
   "source": [
    "# After treatment of outliers, which rating isn’t witnessing changes with respect to Hrs variable?\n",
    "# Calculate the mean hours worked for each rating before and after outlier treatment\n",
    "mean_hrs_before_outliers = hr_data.groupby('Rating')['Hrs'].mean()\n",
    "mean_hrs_after_outliers = data_no_outliers.groupby('Rating')['Hrs'].mean()\n",
    "\n",
    "# Find ratings that aren't witnessing changes with respect to the Hrs variable\n",
    "ratings_no_changes = mean_hrs_before_outliers[mean_hrs_before_outliers == mean_hrs_after_outliers].index.tolist()\n",
    "\n",
    "print(\"Ratings that aren't witnessing changes with respect to the Hrs variable after outlier treatment:\", ratings_no_changes)"
   ]
  },
  {
   "cell_type": "markdown",
   "id": "3352a3fc",
   "metadata": {},
   "source": [
    "Purpose: Identifying the cut off values in order to deal with outliers are a great way to restrict the data. Now, it depends on the domain/context of the problem that we want to restrict the data to these cut off values or not.\n",
    "\n",
    "Do understand that these congestion rates are part of a realistic scenario and not because of some error in the data. Therefore, it's better to continue with the analysis as such."
   ]
  },
  {
   "cell_type": "code",
   "execution_count": 17,
   "id": "5847e627",
   "metadata": {},
   "outputs": [
    {
     "name": "stdout",
     "output_type": "stream",
     "text": [
      "Probabilities for each rating within the dataset:\n",
      "Rating\n",
      "Excellent         74.2\n",
      "Outstanding        9.4\n",
      "Unsatisfactory     9.4\n",
      "Satisfactory       7.0\n",
      "Name: proportion, dtype: float64\n"
     ]
    }
   ],
   "source": [
    "# Let’s first try to understand the Rating variable. Please identify the probabilities for each rating within the dataset. [Hint: Use value_counts]\n",
    "rating_probabilities = hr_data['Rating'].value_counts(normalize=True)*100\n",
    "print(\"Probabilities for each rating within the dataset:\")\n",
    "print(rating_probabilities)"
   ]
  },
  {
   "cell_type": "code",
   "execution_count": 18,
   "id": "ec88d116",
   "metadata": {},
   "outputs": [
    {
     "name": "stdout",
     "output_type": "stream",
     "text": [
      "Probability that 2 out of a sample of 10 employees are rated as outstanding: 0.18\n"
     ]
    }
   ],
   "source": [
    "# Now considering the probabilities calculated in previous questions, Please calculate the probability that 2 out of a sample of 10 employees are rated as outstanding.\n",
    "# Round it off to 2 decimal places. [Hint: Use binomial distribution]\n",
    "from scipy.stats import binom\n",
    "probability_outstanding = hr_data['Rating'].value_counts(normalize=True)['Outstanding']\n",
    "n = 10\n",
    "k = 2\n",
    "probability_2_outstanding = binom.pmf(k, n, probability_outstanding)\n",
    "print(\"Probability that 2 out of a sample of 10 employees are rated as outstanding:\", round(probability_2_outstanding, 2))"
   ]
  },
  {
   "cell_type": "code",
   "execution_count": 19,
   "id": "16df9142",
   "metadata": {},
   "outputs": [
    {
     "name": "stdout",
     "output_type": "stream",
     "text": [
      "Probability that at least 3 out of a sample of 10 employees are rated as outstanding: 0.06\n"
     ]
    }
   ],
   "source": [
    "# Please calculate the probability that at least 3 out of a sample of 10 employees are rated as outstanding. Round it off to 2 decimal places.\n",
    "probability_outstanding = hr_data['Rating'].value_counts(normalize=True)['Outstanding']\n",
    "n = 10\n",
    "k = 2\n",
    "probability_2_outstanding = 1 - binom.cdf(k, n, probability_outstanding)\n",
    "print(\"Probability that at least 3 out of a sample of 10 employees are rated as outstanding:\", round(probability_2_outstanding, 2))"
   ]
  },
  {
   "cell_type": "code",
   "execution_count": 20,
   "id": "1c0fc57b",
   "metadata": {},
   "outputs": [
    {
     "name": "stdout",
     "output_type": "stream",
     "text": [
      "Probability that at least 7 out of a sample of 10 employees are rated as outstanding or Excellent: 0.15\n"
     ]
    }
   ],
   "source": [
    "# Please calculate the probability that exactly 7 out of a sample of 10 employees are rated as outstanding or Excellent. Round it off to 2 decimal places.\n",
    "# [Hint: Add up the probability of both the ratings]\n",
    "probability = hr_data['Rating'].value_counts(normalize=True)[['Outstanding', 'Excellent']].sum()\n",
    "n = 10\n",
    "k = 7\n",
    "probability2 = round(binom.pmf(k, n, probability), 2)\n",
    "\n",
    "print(\"Probability that at least 7 out of a sample of 10 employees are rated as outstanding or Excellent:\", probability2)"
   ]
  },
  {
   "cell_type": "code",
   "execution_count": 21,
   "id": "b70656d7",
   "metadata": {},
   "outputs": [
    {
     "name": "stdout",
     "output_type": "stream",
     "text": [
      "The probability that None of the trainees are rated as Unsatisfactory is: 0.37\n",
      "\n",
      "The probability that None of the trainees are rated as Unsatisfactory is: 0.37\n"
     ]
    }
   ],
   "source": [
    "# Please calculate the probability that None of the 10 trainees are rated as Unsatisfactory. Round it off to 2 decimal places.\n",
    "# First Method -\n",
    "probability_satisfactory_or_better = 1 - hr_data['Rating'].value_counts(normalize=True).get('Unsatisfactory')\n",
    "# Define the parameters for the binomial distribution\n",
    "n = 10  # Number of trials (number of trainees)\n",
    "k = 10  # Number of successes (no unsatisfactory ratings)\n",
    "# Calculate the probability using the binomial distribution\n",
    "probability_none_unsatisfactory = binom.pmf(k, n, probability_satisfactory_or_better)\n",
    "# Round off to 2 decimal places\n",
    "probability_none_unsatisfactory_rounded = round(probability_none_unsatisfactory, 2)\n",
    "print('The probability that None of the trainees are rated as Unsatisfactory is:',probability_none_unsatisfactory_rounded)\n",
    "print()\n",
    "\n",
    "# Second Method -\n",
    "n = 10\n",
    "probability_satisfactory_or_better_1 = round((1 - hr_data['Rating'].value_counts(normalize=True).get('Unsatisfactory'))**n, 2)\n",
    "print('The probability that None of the trainees are rated as Unsatisfactory is:',probability_satisfactory_or_better_1)"
   ]
  },
  {
   "cell_type": "markdown",
   "id": "d3e98bb8",
   "metadata": {},
   "source": [
    "Purpose: By analysing these individual probabilities, we can understand that out of a randomly selected cohort of employees, what are the chances of occurrence of employees from these ratings. These kinds of probabilities help greatly if we have to randomly allocate the resources in a project for team building."
   ]
  },
  {
   "cell_type": "code",
   "execution_count": 22,
   "id": "d703787b",
   "metadata": {},
   "outputs": [
    {
     "name": "stdout",
     "output_type": "stream",
     "text": [
      "The probability that an employee will provide less than 9 hrs of service: 0.11\n",
      "\n",
      "The probability that an employee will provide less than 9 hrs of service: 0.11\n"
     ]
    }
   ],
   "source": [
    "# Let’s first try to understand the Hrs variable. Assuming that this variable follows close to normal distribution,\n",
    "# what’s the probability that an employee will provide less than 9 hrs of service? Round it off to 2 decimal places.\n",
    "# [Hint: Use mean and SD for Hrs variable after outlier removal]\n",
    "# First Method -\n",
    "from scipy.stats import norm\n",
    "mean_hrs = data_no_outliers['Hrs'].mean()\n",
    "std_dev_hrs = data_no_outliers['Hrs'].std()\n",
    "# Calculate the probability using the cumulative distribution function (CDF) of the normal distribution\n",
    "probability_less_than_9_hrs = norm.cdf(9, loc=mean_hrs, scale=std_dev_hrs)\n",
    "# Round off to 2 decimal places\n",
    "probability_less_than_9_hrs_rounded = round(probability_less_than_9_hrs, 2)\n",
    "print('The probability that an employee will provide less than 9 hrs of service:',probability_less_than_9_hrs_rounded)\n",
    "print()\n",
    "\n",
    "# Second Method -\n",
    "from scipy.stats import norm\n",
    "mean_hrs = data_no_outliers['Hrs'].mean()\n",
    "std_dev_hrs = data_no_outliers['Hrs'].std()\n",
    "service_hrs = 9\n",
    "z_score = (service_hrs - mean_hrs) / std_dev_hrs\n",
    "probability_less_than_9_hrs_1 = round(norm.cdf(z_score), 2)\n",
    "print('The probability that an employee will provide less than 9 hrs of service:',probability_less_than_9_hrs_1)"
   ]
  },
  {
   "cell_type": "code",
   "execution_count": 23,
   "id": "1d6732df",
   "metadata": {},
   "outputs": [
    {
     "name": "stdout",
     "output_type": "stream",
     "text": [
      "The probability that an employee will provide hours of service between 11 to 14: 0.48\n"
     ]
    }
   ],
   "source": [
    "# What’s the probability that an employee will provide hours of service between 11 to 14? Round it off to 2 decimal places.\n",
    "mean = data_no_outliers['Hrs'].mean()\n",
    "std_dev = data_no_outliers['Hrs'].std()\n",
    "\n",
    "phone_bill1 = 11\n",
    "z_score1 = (phone_bill1 - mean) / std_dev\n",
    "prob1 = norm.cdf(z_score1)\n",
    "\n",
    "phone_bill2 = 14\n",
    "z_score2 = (phone_bill2 - mean) / std_dev\n",
    "prob2 = norm.cdf(z_score2)\n",
    "\n",
    "prob = prob2 - prob1\n",
    "\n",
    "print('The probability that an employee will provide hours of service between 11 to 14:', round(prob, 2))"
   ]
  },
  {
   "cell_type": "code",
   "execution_count": 24,
   "id": "c910a183",
   "metadata": {},
   "outputs": [
    {
     "name": "stdout",
     "output_type": "stream",
     "text": [
      "95% Confidence Interval for the average of Hrs variable: (10.98, 11.28)\n",
      "\n",
      "95% Confidence Interval for the average of Hrs variable: 10.98, 11.28\n"
     ]
    }
   ],
   "source": [
    "# Calculate the 95% Confidence interval for the average of Hrs variable.\n",
    "# First Method -\n",
    "import scipy.stats as stats\n",
    "sample_mean = round(data_no_outliers['Hrs'].mean(), 2)\n",
    "sample_std_dev = round(data_no_outliers['Hrs'].std(), 2)\n",
    "sample = data_no_outliers['Hrs'].count()\n",
    "# Calculate the sample size and standard error\n",
    "sample_size = len(data_no_outliers)\n",
    "standard_error = sample_std_dev / (sample ** 0.5)\n",
    "# Calculate the margin of error and degree of freedom\n",
    "CI = 0.95 # 95% Confidence interval\n",
    "dof = sample_size - 1\n",
    "margin_of_error = stats.t.ppf((1 + CI) / 2, dof) * standard_error\n",
    "# Calculate the confidence interval\n",
    "confidence_interval = round(sample_mean - margin_of_error, 2), round(sample_mean + margin_of_error,2)\n",
    "print(\"95% Confidence Interval for the average of Hrs variable:\", confidence_interval)\n",
    "print()\n",
    "\n",
    "# Second Method -\n",
    "import scipy.stats as stats\n",
    "mean_hrs = data_no_outliers['Hrs'].mean()\n",
    "std_dev_hrs = data_no_outliers['Hrs'].std()\n",
    "num_samples = data_no_outliers['Hrs'].count()\n",
    "# calculate standard error\n",
    "std_err = std_dev_hrs / (num_samples ** 0.5)\n",
    "# calculate 95% confidence interval\n",
    "lower, upper = stats.norm.interval(0.95, loc=mean_hrs, scale=std_err)\n",
    "lower = round(lower, 2)\n",
    "upper = round(upper, 2)\n",
    "print(f'95% Confidence Interval for the average of Hrs variable: {lower}, {upper}')"
   ]
  }
 ],
 "metadata": {
  "kernelspec": {
   "display_name": "Python 3 (ipykernel)",
   "language": "python",
   "name": "python3"
  },
  "language_info": {
   "codemirror_mode": {
    "name": "ipython",
    "version": 3
   },
   "file_extension": ".py",
   "mimetype": "text/x-python",
   "name": "python",
   "nbconvert_exporter": "python",
   "pygments_lexer": "ipython3",
   "version": "3.11.5"
  }
 },
 "nbformat": 4,
 "nbformat_minor": 5
}
